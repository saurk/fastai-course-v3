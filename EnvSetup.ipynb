{
 "metadata": {
  "language_info": {
   "codemirror_mode": {
    "name": "ipython",
    "version": 3
   },
   "file_extension": ".py",
   "mimetype": "text/x-python",
   "name": "python",
   "nbconvert_exporter": "python",
   "pygments_lexer": "ipython3",
   "version": 3
  },
  "orig_nbformat": 2
 },
 "nbformat": 4,
 "nbformat_minor": 2,
 "cells": [
  {
   "cell_type": "code",
   "execution_count": null,
   "metadata": {},
   "outputs": [],
   "source": [
    "## Startup the Jupyter Server based on FastBook first and follow steps below:\n",
    "\n",
    "## conda install nbconvert\n",
    "\n",
    "## conda install fire -c conda-forge\n",
    "\n",
    "## conda install -c pytorch -c fastai fastai=1.0.61\n",
    "\n",
    "## pip install ipykernel\n",
    "\n",
    "## python -m ipykernel install --user --name coursev3 --display-name \"Python (CourseV3-Part2)\""
   ]
  }
 ]
}