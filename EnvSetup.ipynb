{
 "cells": [
  {
   "cell_type": "code",
   "execution_count": null,
   "metadata": {},
   "outputs": [],
   "source": [
    "## Startup the Jupyter Server based on FastBook first and follow steps below:\n",
    "\n",
    "##  conda create --name coursev3 python=3.6\n",
    "\n",
    "##  conda activate fastai-course-v3\n",
    "\n",
    "## conda install -c pytorch -c fastai fastai=1.0.61\n",
    "\n",
    "## conda install nbconvert\n",
    "\n",
    "## conda install fire -c conda-forge\n",
    "\n",
    "## pip install ipykernel\n",
    "\n",
    "## python -m ipykernel install --user --name coursev3 --display-name \"Python (CourseV3-Part2)\""
   ]
  }
 ],
 "metadata": {
  "kernelspec": {
   "display_name": "Python 3",
   "language": "python",
   "name": "python3"
  },
  "language_info": {
   "codemirror_mode": {
    "name": "ipython",
    "version": 3
   },
   "file_extension": ".py",
   "mimetype": "text/x-python",
   "name": "python",
   "nbconvert_exporter": "python",
   "pygments_lexer": "ipython3",
   "version": "3.7.7"
  }
 },
 "nbformat": 4,
 "nbformat_minor": 4
}
